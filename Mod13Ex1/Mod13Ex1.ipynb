{
 "cells": [
  {
   "cell_type": "markdown",
   "metadata": {},
   "source": [
    "# EBAC - Regressão II - regressão múltipla\n",
    "\n",
    "## Tarefa I"
   ]
  },
  {
   "cell_type": "markdown",
   "metadata": {},
   "source": [
    "#### Previsão de renda\n",
    "\n",
    "Vamos trabalhar com a base 'previsao_de_renda.csv', que é a base do seu próximo projeto. Vamos usar os recursos que vimos até aqui nesta base.\n",
    "\n",
    "|variavel|descrição|\n",
    "|-|-|\n",
    "|data_ref                | Data de referência de coleta das variáveis |\n",
    "|index                   | Código de identificação do cliente|\n",
    "|sexo                    | Sexo do cliente|\n",
    "|posse_de_veiculo        | Indica se o cliente possui veículo|\n",
    "|posse_de_imovel         | Indica se o cliente possui imóvel|\n",
    "|qtd_filhos              | Quantidade de filhos do cliente|\n",
    "|tipo_renda              | Tipo de renda do cliente|\n",
    "|educacao                | Grau de instrução do cliente|\n",
    "|estado_civil            | Estado civil do cliente|\n",
    "|tipo_residencia         | Tipo de residência do cliente (própria, alugada etc)|\n",
    "|idade                   | Idade do cliente|\n",
    "|tempo_emprego           | Tempo no emprego atual|\n",
    "|qt_pessoas_residencia   | Quantidade de pessoas que moram na residência|\n",
    "|renda                   | Renda em reais|"
   ]
  },
  {
   "cell_type": "code",
   "execution_count": 2,
   "metadata": {},
   "outputs": [],
   "source": [
    "import pandas as pd\n",
    "import numpy as np\n",
    "import seaborn as sns\n",
    "import matplotlib.pyplot as plt\n",
    "\n",
    "import statsmodels.formula.api as smf\n",
    "import statsmodels.api as sm\n",
    "import patsy"
   ]
  },
  {
   "cell_type": "code",
   "execution_count": 3,
   "metadata": {},
   "outputs": [],
   "source": [
    "df = pd.read_csv('previsao_de_renda.csv', parse_dates=['data_ref'])\n",
    "df.drop('Unnamed: 0', axis=1, inplace=True)"
   ]
  },
  {
   "cell_type": "code",
   "execution_count": 4,
   "metadata": {},
   "outputs": [
    {
     "data": {
      "text/html": [
       "<div>\n",
       "<style scoped>\n",
       "    .dataframe tbody tr th:only-of-type {\n",
       "        vertical-align: middle;\n",
       "    }\n",
       "\n",
       "    .dataframe tbody tr th {\n",
       "        vertical-align: top;\n",
       "    }\n",
       "\n",
       "    .dataframe thead th {\n",
       "        text-align: right;\n",
       "    }\n",
       "</style>\n",
       "<table border=\"1\" class=\"dataframe\">\n",
       "  <thead>\n",
       "    <tr style=\"text-align: right;\">\n",
       "      <th></th>\n",
       "      <th>data_ref</th>\n",
       "      <th>id_cliente</th>\n",
       "      <th>sexo</th>\n",
       "      <th>posse_de_veiculo</th>\n",
       "      <th>posse_de_imovel</th>\n",
       "      <th>qtd_filhos</th>\n",
       "      <th>tipo_renda</th>\n",
       "      <th>educacao</th>\n",
       "      <th>estado_civil</th>\n",
       "      <th>tipo_residencia</th>\n",
       "      <th>idade</th>\n",
       "      <th>tempo_emprego</th>\n",
       "      <th>qt_pessoas_residencia</th>\n",
       "      <th>renda</th>\n",
       "    </tr>\n",
       "  </thead>\n",
       "  <tbody>\n",
       "    <tr>\n",
       "      <th>0</th>\n",
       "      <td>2015-01-01</td>\n",
       "      <td>15056</td>\n",
       "      <td>F</td>\n",
       "      <td>False</td>\n",
       "      <td>True</td>\n",
       "      <td>0</td>\n",
       "      <td>Empresário</td>\n",
       "      <td>Secundário</td>\n",
       "      <td>Solteiro</td>\n",
       "      <td>Casa</td>\n",
       "      <td>26</td>\n",
       "      <td>6.602740</td>\n",
       "      <td>1.0</td>\n",
       "      <td>8060.34</td>\n",
       "    </tr>\n",
       "    <tr>\n",
       "      <th>1</th>\n",
       "      <td>2015-01-01</td>\n",
       "      <td>9968</td>\n",
       "      <td>M</td>\n",
       "      <td>True</td>\n",
       "      <td>True</td>\n",
       "      <td>0</td>\n",
       "      <td>Assalariado</td>\n",
       "      <td>Superior completo</td>\n",
       "      <td>Casado</td>\n",
       "      <td>Casa</td>\n",
       "      <td>28</td>\n",
       "      <td>7.183562</td>\n",
       "      <td>2.0</td>\n",
       "      <td>1852.15</td>\n",
       "    </tr>\n",
       "    <tr>\n",
       "      <th>2</th>\n",
       "      <td>2015-01-01</td>\n",
       "      <td>4312</td>\n",
       "      <td>F</td>\n",
       "      <td>True</td>\n",
       "      <td>True</td>\n",
       "      <td>0</td>\n",
       "      <td>Empresário</td>\n",
       "      <td>Superior completo</td>\n",
       "      <td>Casado</td>\n",
       "      <td>Casa</td>\n",
       "      <td>35</td>\n",
       "      <td>0.838356</td>\n",
       "      <td>2.0</td>\n",
       "      <td>2253.89</td>\n",
       "    </tr>\n",
       "    <tr>\n",
       "      <th>3</th>\n",
       "      <td>2015-01-01</td>\n",
       "      <td>10639</td>\n",
       "      <td>F</td>\n",
       "      <td>False</td>\n",
       "      <td>True</td>\n",
       "      <td>1</td>\n",
       "      <td>Servidor público</td>\n",
       "      <td>Superior completo</td>\n",
       "      <td>Casado</td>\n",
       "      <td>Casa</td>\n",
       "      <td>30</td>\n",
       "      <td>4.846575</td>\n",
       "      <td>3.0</td>\n",
       "      <td>6600.77</td>\n",
       "    </tr>\n",
       "    <tr>\n",
       "      <th>4</th>\n",
       "      <td>2015-01-01</td>\n",
       "      <td>7064</td>\n",
       "      <td>M</td>\n",
       "      <td>True</td>\n",
       "      <td>False</td>\n",
       "      <td>0</td>\n",
       "      <td>Assalariado</td>\n",
       "      <td>Secundário</td>\n",
       "      <td>Solteiro</td>\n",
       "      <td>Governamental</td>\n",
       "      <td>33</td>\n",
       "      <td>4.293151</td>\n",
       "      <td>1.0</td>\n",
       "      <td>6475.97</td>\n",
       "    </tr>\n",
       "  </tbody>\n",
       "</table>\n",
       "</div>"
      ],
      "text/plain": [
       "    data_ref  id_cliente sexo  posse_de_veiculo  posse_de_imovel  qtd_filhos  \\\n",
       "0 2015-01-01       15056    F             False             True           0   \n",
       "1 2015-01-01        9968    M              True             True           0   \n",
       "2 2015-01-01        4312    F              True             True           0   \n",
       "3 2015-01-01       10639    F             False             True           1   \n",
       "4 2015-01-01        7064    M              True            False           0   \n",
       "\n",
       "         tipo_renda           educacao estado_civil tipo_residencia  idade  \\\n",
       "0        Empresário         Secundário     Solteiro            Casa     26   \n",
       "1       Assalariado  Superior completo       Casado            Casa     28   \n",
       "2        Empresário  Superior completo       Casado            Casa     35   \n",
       "3  Servidor público  Superior completo       Casado            Casa     30   \n",
       "4       Assalariado         Secundário     Solteiro   Governamental     33   \n",
       "\n",
       "   tempo_emprego  qt_pessoas_residencia    renda  \n",
       "0       6.602740                    1.0  8060.34  \n",
       "1       7.183562                    2.0  1852.15  \n",
       "2       0.838356                    2.0  2253.89  \n",
       "3       4.846575                    3.0  6600.77  \n",
       "4       4.293151                    1.0  6475.97  "
      ]
     },
     "execution_count": 4,
     "metadata": {},
     "output_type": "execute_result"
    }
   ],
   "source": [
    "df.head()"
   ]
  },
  {
   "cell_type": "code",
   "execution_count": 5,
   "metadata": {},
   "outputs": [
    {
     "name": "stdout",
     "output_type": "stream",
     "text": [
      "<class 'pandas.core.frame.DataFrame'>\n",
      "RangeIndex: 15000 entries, 0 to 14999\n",
      "Data columns (total 14 columns):\n",
      " #   Column                 Non-Null Count  Dtype         \n",
      "---  ------                 --------------  -----         \n",
      " 0   data_ref               15000 non-null  datetime64[ns]\n",
      " 1   id_cliente             15000 non-null  int64         \n",
      " 2   sexo                   15000 non-null  object        \n",
      " 3   posse_de_veiculo       15000 non-null  bool          \n",
      " 4   posse_de_imovel        15000 non-null  bool          \n",
      " 5   qtd_filhos             15000 non-null  int64         \n",
      " 6   tipo_renda             15000 non-null  object        \n",
      " 7   educacao               15000 non-null  object        \n",
      " 8   estado_civil           15000 non-null  object        \n",
      " 9   tipo_residencia        15000 non-null  object        \n",
      " 10  idade                  15000 non-null  int64         \n",
      " 11  tempo_emprego          12427 non-null  float64       \n",
      " 12  qt_pessoas_residencia  15000 non-null  float64       \n",
      " 13  renda                  15000 non-null  float64       \n",
      "dtypes: bool(2), datetime64[ns](1), float64(3), int64(3), object(5)\n",
      "memory usage: 1.4+ MB\n"
     ]
    }
   ],
   "source": [
    "df.info()"
   ]
  },
  {
   "cell_type": "markdown",
   "metadata": {},
   "source": [
    "1. Ajuste um modelo para prever log(renda) considerando todas as covariáveis disponíveis.\n",
    "    - Utilizando os recursos do Patsy, coloque as variáveis qualitativas como *dummies*.\n",
    "    - Mantenha sempre a categoria mais frequente como casela de referência\n",
    "    - Avalie os parâmetros e veja se parecem fazer sentido prático.\n",
    "\n",
    "2. Remova a variável menos significante e analise:\n",
    "    - Observe os indicadores que vimos, e avalie se o modelo melhorou ou piorou na sua opinião.\n",
    "    - Observe os parâmetros e veja se algum se alterou muito.\n",
    "\n",
    "3. Siga removendo as variáveis menos significantes, sempre que o *p-value* for menor que 5%. Compare o modelo final com o inicial. Observe os indicadores e conclua se o modelo parece melhor. \n",
    "    "
   ]
  },
  {
   "cell_type": "markdown",
   "metadata": {},
   "source": [
    "# 1"
   ]
  },
  {
   "cell_type": "code",
   "execution_count": 6,
   "metadata": {},
   "outputs": [
    {
     "data": {
      "text/html": [
       "<div>\n",
       "<style scoped>\n",
       "    .dataframe tbody tr th:only-of-type {\n",
       "        vertical-align: middle;\n",
       "    }\n",
       "\n",
       "    .dataframe tbody tr th {\n",
       "        vertical-align: top;\n",
       "    }\n",
       "\n",
       "    .dataframe thead th {\n",
       "        text-align: right;\n",
       "    }\n",
       "</style>\n",
       "<table border=\"1\" class=\"dataframe\">\n",
       "  <thead>\n",
       "    <tr style=\"text-align: right;\">\n",
       "      <th></th>\n",
       "      <th>sexo</th>\n",
       "      <th>posse_de_veiculo</th>\n",
       "      <th>posse_de_imovel</th>\n",
       "      <th>tipo_renda</th>\n",
       "      <th>educacao</th>\n",
       "      <th>estado_civil</th>\n",
       "      <th>tipo_residencia</th>\n",
       "    </tr>\n",
       "  </thead>\n",
       "  <tbody>\n",
       "    <tr>\n",
       "      <th>0</th>\n",
       "      <td>F</td>\n",
       "      <td>False</td>\n",
       "      <td>True</td>\n",
       "      <td>Empresário</td>\n",
       "      <td>Secundário</td>\n",
       "      <td>Solteiro</td>\n",
       "      <td>Casa</td>\n",
       "    </tr>\n",
       "    <tr>\n",
       "      <th>1</th>\n",
       "      <td>M</td>\n",
       "      <td>True</td>\n",
       "      <td>True</td>\n",
       "      <td>Assalariado</td>\n",
       "      <td>Superior completo</td>\n",
       "      <td>Casado</td>\n",
       "      <td>Casa</td>\n",
       "    </tr>\n",
       "    <tr>\n",
       "      <th>2</th>\n",
       "      <td>F</td>\n",
       "      <td>True</td>\n",
       "      <td>True</td>\n",
       "      <td>Empresário</td>\n",
       "      <td>Superior completo</td>\n",
       "      <td>Casado</td>\n",
       "      <td>Casa</td>\n",
       "    </tr>\n",
       "    <tr>\n",
       "      <th>3</th>\n",
       "      <td>F</td>\n",
       "      <td>False</td>\n",
       "      <td>True</td>\n",
       "      <td>Servidor público</td>\n",
       "      <td>Superior completo</td>\n",
       "      <td>Casado</td>\n",
       "      <td>Casa</td>\n",
       "    </tr>\n",
       "    <tr>\n",
       "      <th>4</th>\n",
       "      <td>M</td>\n",
       "      <td>True</td>\n",
       "      <td>False</td>\n",
       "      <td>Assalariado</td>\n",
       "      <td>Secundário</td>\n",
       "      <td>Solteiro</td>\n",
       "      <td>Governamental</td>\n",
       "    </tr>\n",
       "  </tbody>\n",
       "</table>\n",
       "</div>"
      ],
      "text/plain": [
       "  sexo  posse_de_veiculo  posse_de_imovel        tipo_renda  \\\n",
       "0    F             False             True        Empresário   \n",
       "1    M              True             True       Assalariado   \n",
       "2    F              True             True        Empresário   \n",
       "3    F             False             True  Servidor público   \n",
       "4    M              True            False       Assalariado   \n",
       "\n",
       "            educacao estado_civil tipo_residencia  \n",
       "0         Secundário     Solteiro            Casa  \n",
       "1  Superior completo       Casado            Casa  \n",
       "2  Superior completo       Casado            Casa  \n",
       "3  Superior completo       Casado            Casa  \n",
       "4         Secundário     Solteiro   Governamental  "
      ]
     },
     "execution_count": 6,
     "metadata": {},
     "output_type": "execute_result"
    }
   ],
   "source": [
    "# selecionando variáveis qualitativas\n",
    "var_qual = df.select_dtypes(include=['object','bool'])\n",
    "var_qual.head()"
   ]
  },
  {
   "cell_type": "code",
   "execution_count": 7,
   "metadata": {},
   "outputs": [
    {
     "data": {
      "image/png": "[encoded data removed]",
      "text/plain": [
       "<Figure size 432x288 with 1 Axes>"
      ]
     },
     "metadata": {
      "needs_background": "light"
     },
     "output_type": "display_data"
    }
   ],
   "source": [
    "# exemplo de variável qualitativa \n",
    "sns.pointplot(y = 'renda', x = 'educacao', data = df)\n",
    "plt.xticks(rotation=45);"
   ]
  },
  {
   "cell_type": "code",
   "execution_count": 8,
   "metadata": {},
   "outputs": [
    {
     "data": {
      "text/plain": [
       "Assalariado         7633\n",
       "Empresário          3508\n",
       "Pensionista         2582\n",
       "Servidor público    1268\n",
       "Bolsista               9\n",
       "Name: tipo_renda, dtype: int64"
      ]
     },
     "execution_count": 8,
     "metadata": {},
     "output_type": "execute_result"
    }
   ],
   "source": [
    "var_qual['tipo_renda'].value_counts()"
   ]
  },
  {
   "cell_type": "code",
   "execution_count": 9,
   "metadata": {},
   "outputs": [
    {
     "data": {
      "text/plain": [
       "Index(['sexo', 'posse_de_veiculo', 'posse_de_imovel', 'tipo_renda', 'educacao',\n",
       "       'estado_civil', 'tipo_residencia'],\n",
       "      dtype='object')"
      ]
     },
     "execution_count": 9,
     "metadata": {},
     "output_type": "execute_result"
    }
   ],
   "source": [
    "var_qual.columns"
   ]
  },
  {
   "cell_type": "code",
   "execution_count": 10,
   "metadata": {},
   "outputs": [
    {
     "data": {
      "text/plain": [
       "Index(['data_ref', 'id_cliente', 'sexo', 'posse_de_veiculo', 'posse_de_imovel',\n",
       "       'qtd_filhos', 'tipo_renda', 'educacao', 'estado_civil',\n",
       "       'tipo_residencia', 'idade', 'tempo_emprego', 'qt_pessoas_residencia',\n",
       "       'renda'],\n",
       "      dtype='object')"
      ]
     },
     "execution_count": 10,
     "metadata": {},
     "output_type": "execute_result"
    }
   ],
   "source": [
    "df.columns"
   ]
  },
  {
   "cell_type": "code",
   "execution_count": 11,
   "metadata": {},
   "outputs": [
    {
     "data": {
      "text/plain": [
       "DesignMatrix with shape (12427, 25)\n",
       "  Columns:\n",
       "    ['Intercept',\n",
       "     'C(sexo, Treatment(0))[T.M]',\n",
       "     'C(tipo_renda, Treatment(0))[T.Bolsista]',\n",
       "     'C(tipo_renda, Treatment(0))[T.Empresário]',\n",
       "     'C(tipo_renda, Treatment(0))[T.Pensionista]',\n",
       "     'C(tipo_renda, Treatment(0))[T.Servidor público]',\n",
       "     'C(educacao, Treatment(2))[T.Primário]',\n",
       "     'C(educacao, Treatment(2))[T.Pós graduação]',\n",
       "     'C(educacao, Treatment(2))[T.Superior completo]',\n",
       "     'C(educacao, Treatment(2))[T.Superior incompleto]',\n",
       "     'C(estado_civil, Treatment(0))[T.Separado]',\n",
       "     'C(estado_civil, Treatment(0))[T.Solteiro]',\n",
       "     'C(estado_civil, Treatment(0))[T.União]',\n",
       "     'C(estado_civil, Treatment(0))[T.Viúvo]',\n",
       "     'C(tipo_residencia, Treatment(1))[T.Aluguel]',\n",
       "     'C(tipo_residencia, Treatment(1))[T.Com os pais]',\n",
       "     'C(tipo_residencia, Treatment(1))[T.Comunitário]',\n",
       "     'C(tipo_residencia, Treatment(1))[T.Estúdio]',\n",
       "     'C(tipo_residencia, Treatment(1))[T.Governamental]',\n",
       "     'C(posse_de_veiculo, Treatment(0))[T.True]',\n",
       "     'C(posse_de_imovel, Treatment(1))[T.False]',\n",
       "     'qtd_filhos',\n",
       "     'idade',\n",
       "     'tempo_emprego',\n",
       "     'qt_pessoas_residencia']\n",
       "  Terms:\n",
       "    'Intercept' (column 0)\n",
       "    'C(sexo, Treatment(0))' (column 1)\n",
       "    'C(tipo_renda, Treatment(0))' (columns 2:6)\n",
       "    'C(educacao, Treatment(2))' (columns 6:10)\n",
       "    'C(estado_civil, Treatment(0))' (columns 10:14)\n",
       "    'C(tipo_residencia, Treatment(1))' (columns 14:19)\n",
       "    'C(posse_de_veiculo, Treatment(0))' (column 19)\n",
       "    'C(posse_de_imovel, Treatment(1))' (column 20)\n",
       "    'qtd_filhos' (column 21)\n",
       "    'idade' (column 22)\n",
       "    'tempo_emprego' (column 23)\n",
       "    'qt_pessoas_residencia' (column 24)\n",
       "  (to view full data, use np.asarray(this_obj))"
      ]
     },
     "execution_count": 11,
     "metadata": {},
     "output_type": "execute_result"
    }
   ],
   "source": [
    "# variáveis qualitativas como dummies - colocando Treatment para variável mais frequente (não vou usar a data_ref nem id_cliente)\n",
    "y, x = patsy.dmatrices('''\n",
    "                       np.log(renda) ~ \n",
    "                               C(sexo, Treatment(0))\n",
    "                               + C(tipo_renda, Treatment(0))\n",
    "                               + C(educacao, Treatment(2))\n",
    "                               + C(estado_civil, Treatment(0))\n",
    "                               + C(tipo_residencia, Treatment(1))\n",
    "                               + C(posse_de_veiculo, Treatment(0))\n",
    "                               + C(posse_de_imovel, Treatment(1))\n",
    "                               + qtd_filhos\n",
    "                               + idade\n",
    "                               + tempo_emprego\n",
    "                               + qt_pessoas_residencia\n",
    "                       ''', data = df)\n",
    "x"
   ]
  },
  {
   "cell_type": "code",
   "execution_count": 12,
   "metadata": {},
   "outputs": [
    {
     "data": {
      "text/html": [
       "<table class=\"simpletable\">\n",
       "<caption>OLS Regression Results</caption>\n",
       "<tr>\n",
       "  <th>Dep. Variable:</th>      <td>np.log(renda)</td>  <th>  R-squared:         </th> <td>   0.357</td> \n",
       "</tr>\n",
       "<tr>\n",
       "  <th>Model:</th>                   <td>OLS</td>       <th>  Adj. R-squared:    </th> <td>   0.356</td> \n",
       "</tr>\n",
       "<tr>\n",
       "  <th>Method:</th>             <td>Least Squares</td>  <th>  F-statistic:       </th> <td>   287.5</td> \n",
       "</tr>\n",
       "<tr>\n",
       "  <th>Date:</th>             <td>Wed, 29 Jun 2022</td> <th>  Prob (F-statistic):</th>  <td>  0.00</td>  \n",
       "</tr>\n",
       "<tr>\n",
       "  <th>Time:</th>                 <td>16:11:04</td>     <th>  Log-Likelihood:    </th> <td> -13568.</td> \n",
       "</tr>\n",
       "<tr>\n",
       "  <th>No. Observations:</th>      <td> 12427</td>      <th>  AIC:               </th> <td>2.719e+04</td>\n",
       "</tr>\n",
       "<tr>\n",
       "  <th>Df Residuals:</th>          <td> 12402</td>      <th>  BIC:               </th> <td>2.737e+04</td>\n",
       "</tr>\n",
       "<tr>\n",
       "  <th>Df Model:</th>              <td>    24</td>      <th>                     </th>     <td> </td>    \n",
       "</tr>\n",
       "<tr>\n",
       "  <th>Covariance Type:</th>      <td>nonrobust</td>    <th>                     </th>     <td> </td>    \n",
       "</tr>\n",
       "</table>\n",
       "<table class=\"simpletable\">\n",
       "<tr>\n",
       "                          <td></td>                             <th>coef</th>     <th>std err</th>      <th>t</th>      <th>P>|t|</th>  <th>[0.025</th>    <th>0.975]</th>  \n",
       "</tr>\n",
       "<tr>\n",
       "  <th>Intercept</th>                                         <td>    6.6093</td> <td>    0.219</td> <td>   30.214</td> <td> 0.000</td> <td>    6.181</td> <td>    7.038</td>\n",
       "</tr>\n",
       "<tr>\n",
       "  <th>C(sexo, Treatment(0))[T.M]</th>                        <td>    0.7874</td> <td>    0.015</td> <td>   53.723</td> <td> 0.000</td> <td>    0.759</td> <td>    0.816</td>\n",
       "</tr>\n",
       "<tr>\n",
       "  <th>C(tipo_renda, Treatment(0))[T.Bolsista]</th>           <td>    0.2209</td> <td>    0.241</td> <td>    0.916</td> <td> 0.360</td> <td>   -0.252</td> <td>    0.694</td>\n",
       "</tr>\n",
       "<tr>\n",
       "  <th>C(tipo_renda, Treatment(0))[T.Empresário]</th>         <td>    0.1551</td> <td>    0.015</td> <td>   10.387</td> <td> 0.000</td> <td>    0.126</td> <td>    0.184</td>\n",
       "</tr>\n",
       "<tr>\n",
       "  <th>C(tipo_renda, Treatment(0))[T.Pensionista]</th>        <td>   -0.3087</td> <td>    0.241</td> <td>   -1.280</td> <td> 0.201</td> <td>   -0.782</td> <td>    0.164</td>\n",
       "</tr>\n",
       "<tr>\n",
       "  <th>C(tipo_renda, Treatment(0))[T.Servidor público]</th>   <td>    0.0576</td> <td>    0.022</td> <td>    2.591</td> <td> 0.010</td> <td>    0.014</td> <td>    0.101</td>\n",
       "</tr>\n",
       "<tr>\n",
       "  <th>C(educacao, Treatment(2))[T.Primário]</th>             <td>    0.0141</td> <td>    0.072</td> <td>    0.196</td> <td> 0.844</td> <td>   -0.127</td> <td>    0.155</td>\n",
       "</tr>\n",
       "<tr>\n",
       "  <th>C(educacao, Treatment(2))[T.Pós graduação]</th>        <td>    0.1212</td> <td>    0.142</td> <td>    0.853</td> <td> 0.394</td> <td>   -0.157</td> <td>    0.400</td>\n",
       "</tr>\n",
       "<tr>\n",
       "  <th>C(educacao, Treatment(2))[T.Superior completo]</th>    <td>    0.1079</td> <td>    0.014</td> <td>    7.763</td> <td> 0.000</td> <td>    0.081</td> <td>    0.135</td>\n",
       "</tr>\n",
       "<tr>\n",
       "  <th>C(educacao, Treatment(2))[T.Superior incompleto]</th>  <td>   -0.0290</td> <td>    0.032</td> <td>   -0.900</td> <td> 0.368</td> <td>   -0.092</td> <td>    0.034</td>\n",
       "</tr>\n",
       "<tr>\n",
       "  <th>C(estado_civil, Treatment(0))[T.Separado]</th>         <td>    0.3265</td> <td>    0.111</td> <td>    2.935</td> <td> 0.003</td> <td>    0.108</td> <td>    0.545</td>\n",
       "</tr>\n",
       "<tr>\n",
       "  <th>C(estado_civil, Treatment(0))[T.Solteiro]</th>         <td>    0.2672</td> <td>    0.109</td> <td>    2.453</td> <td> 0.014</td> <td>    0.054</td> <td>    0.481</td>\n",
       "</tr>\n",
       "<tr>\n",
       "  <th>C(estado_civil, Treatment(0))[T.União]</th>            <td>   -0.0343</td> <td>    0.025</td> <td>   -1.361</td> <td> 0.174</td> <td>   -0.084</td> <td>    0.015</td>\n",
       "</tr>\n",
       "<tr>\n",
       "  <th>C(estado_civil, Treatment(0))[T.Viúvo]</th>            <td>    0.3689</td> <td>    0.116</td> <td>    3.191</td> <td> 0.001</td> <td>    0.142</td> <td>    0.596</td>\n",
       "</tr>\n",
       "<tr>\n",
       "  <th>C(tipo_residencia, Treatment(1))[T.Aluguel]</th>       <td>    0.0442</td> <td>    0.054</td> <td>    0.815</td> <td> 0.415</td> <td>   -0.062</td> <td>    0.150</td>\n",
       "</tr>\n",
       "<tr>\n",
       "  <th>C(tipo_residencia, Treatment(1))[T.Com os pais]</th>   <td>    0.0184</td> <td>    0.029</td> <td>    0.625</td> <td> 0.532</td> <td>   -0.039</td> <td>    0.076</td>\n",
       "</tr>\n",
       "<tr>\n",
       "  <th>C(tipo_residencia, Treatment(1))[T.Comunitário]</th>   <td>   -0.0754</td> <td>    0.091</td> <td>   -0.829</td> <td> 0.407</td> <td>   -0.254</td> <td>    0.103</td>\n",
       "</tr>\n",
       "<tr>\n",
       "  <th>C(tipo_residencia, Treatment(1))[T.Estúdio]</th>       <td>    0.1107</td> <td>    0.084</td> <td>    1.319</td> <td> 0.187</td> <td>   -0.054</td> <td>    0.275</td>\n",
       "</tr>\n",
       "<tr>\n",
       "  <th>C(tipo_residencia, Treatment(1))[T.Governamental]</th> <td>   -0.0129</td> <td>    0.039</td> <td>   -0.331</td> <td> 0.741</td> <td>   -0.089</td> <td>    0.064</td>\n",
       "</tr>\n",
       "<tr>\n",
       "  <th>C(posse_de_veiculo, Treatment(0))[T.True]</th>         <td>    0.0441</td> <td>    0.014</td> <td>    3.119</td> <td> 0.002</td> <td>    0.016</td> <td>    0.072</td>\n",
       "</tr>\n",
       "<tr>\n",
       "  <th>C(posse_de_imovel, Treatment(1))[T.False]</th>         <td>   -0.0829</td> <td>    0.014</td> <td>   -5.926</td> <td> 0.000</td> <td>   -0.110</td> <td>   -0.055</td>\n",
       "</tr>\n",
       "<tr>\n",
       "  <th>qtd_filhos</th>                                        <td>   -0.2658</td> <td>    0.108</td> <td>   -2.463</td> <td> 0.014</td> <td>   -0.477</td> <td>   -0.054</td>\n",
       "</tr>\n",
       "<tr>\n",
       "  <th>idade</th>                                             <td>    0.0053</td> <td>    0.001</td> <td>    6.624</td> <td> 0.000</td> <td>    0.004</td> <td>    0.007</td>\n",
       "</tr>\n",
       "<tr>\n",
       "  <th>tempo_emprego</th>                                     <td>    0.0617</td> <td>    0.001</td> <td>   59.398</td> <td> 0.000</td> <td>    0.060</td> <td>    0.064</td>\n",
       "</tr>\n",
       "<tr>\n",
       "  <th>qt_pessoas_residencia</th>                             <td>    0.2926</td> <td>    0.108</td> <td>    2.716</td> <td> 0.007</td> <td>    0.081</td> <td>    0.504</td>\n",
       "</tr>\n",
       "</table>\n",
       "<table class=\"simpletable\">\n",
       "<tr>\n",
       "  <th>Omnibus:</th>       <td> 0.858</td> <th>  Durbin-Watson:     </th> <td>   2.023</td>\n",
       "</tr>\n",
       "<tr>\n",
       "  <th>Prob(Omnibus):</th> <td> 0.651</td> <th>  Jarque-Bera (JB):  </th> <td>   0.839</td>\n",
       "</tr>\n",
       "<tr>\n",
       "  <th>Skew:</th>          <td> 0.019</td> <th>  Prob(JB):          </th> <td>   0.657</td>\n",
       "</tr>\n",
       "<tr>\n",
       "  <th>Kurtosis:</th>      <td> 3.012</td> <th>  Cond. No.          </th> <td>2.14e+03</td>\n",
       "</tr>\n",
       "</table><br/><br/>Notes:<br/>[1] Standard Errors assume that the covariance matrix of the errors is correctly specified.<br/>[2] The condition number is large, 2.14e+03. This might indicate that there are<br/>strong multicollinearity or other numerical problems."
      ],
      "text/plain": [
       "<class 'statsmodels.iolib.summary.Summary'>\n",
       "\"\"\"\n",
       "                            OLS Regression Results                            \n",
       "==============================================================================\n",
       "Dep. Variable:          np.log(renda)   R-squared:                       0.357\n",
       "Model:                            OLS   Adj. R-squared:                  0.356\n",
       "Method:                 Least Squares   F-statistic:                     287.5\n",
       "Date:                Wed, 29 Jun 2022   Prob (F-statistic):               0.00\n",
       "Time:                        16:11:04   Log-Likelihood:                -13568.\n",
       "No. Observations:               12427   AIC:                         2.719e+04\n",
       "Df Residuals:                   12402   BIC:                         2.737e+04\n",
       "Df Model:                          24                                         \n",
       "Covariance Type:            nonrobust                                         \n",
       "=====================================================================================================================\n",
       "                                                        coef    std err          t      P>|t|      [0.025      0.975]\n",
       "---------------------------------------------------------------------------------------------------------------------\n",
       "Intercept                                             6.6093      0.219     30.214      0.000       6.181       7.038\n",
       "C(sexo, Treatment(0))[T.M]                            0.7874      0.015     53.723      0.000       0.759       0.816\n",
       "C(tipo_renda, Treatment(0))[T.Bolsista]               0.2209      0.241      0.916      0.360      -0.252       0.694\n",
       "C(tipo_renda, Treatment(0))[T.Empresário]             0.1551      0.015     10.387      0.000       0.126       0.184\n",
       "C(tipo_renda, Treatment(0))[T.Pensionista]           -0.3087      0.241     -1.280      0.201      -0.782       0.164\n",
       "C(tipo_renda, Treatment(0))[T.Servidor público]       0.0576      0.022      2.591      0.010       0.014       0.101\n",
       "C(educacao, Treatment(2))[T.Primário]                 0.0141      0.072      0.196      0.844      -0.127       0.155\n",
       "C(educacao, Treatment(2))[T.Pós graduação]            0.1212      0.142      0.853      0.394      -0.157       0.400\n",
       "C(educacao, Treatment(2))[T.Superior completo]        0.1079      0.014      7.763      0.000       0.081       0.135\n",
       "C(educacao, Treatment(2))[T.Superior incompleto]     -0.0290      0.032     -0.900      0.368      -0.092       0.034\n",
       "C(estado_civil, Treatment(0))[T.Separado]             0.3265      0.111      2.935      0.003       0.108       0.545\n",
       "C(estado_civil, Treatment(0))[T.Solteiro]             0.2672      0.109      2.453      0.014       0.054       0.481\n",
       "C(estado_civil, Treatment(0))[T.União]               -0.0343      0.025     -1.361      0.174      -0.084       0.015\n",
       "C(estado_civil, Treatment(0))[T.Viúvo]                0.3689      0.116      3.191      0.001       0.142       0.596\n",
       "C(tipo_residencia, Treatment(1))[T.Aluguel]           0.0442      0.054      0.815      0.415      -0.062       0.150\n",
       "C(tipo_residencia, Treatment(1))[T.Com os pais]       0.0184      0.029      0.625      0.532      -0.039       0.076\n",
       "C(tipo_residencia, Treatment(1))[T.Comunitário]      -0.0754      0.091     -0.829      0.407      -0.254       0.103\n",
       "C(tipo_residencia, Treatment(1))[T.Estúdio]           0.1107      0.084      1.319      0.187      -0.054       0.275\n",
       "C(tipo_residencia, Treatment(1))[T.Governamental]    -0.0129      0.039     -0.331      0.741      -0.089       0.064\n",
       "C(posse_de_veiculo, Treatment(0))[T.True]             0.0441      0.014      3.119      0.002       0.016       0.072\n",
       "C(posse_de_imovel, Treatment(1))[T.False]            -0.0829      0.014     -5.926      0.000      -0.110      -0.055\n",
       "qtd_filhos                                           -0.2658      0.108     -2.463      0.014      -0.477      -0.054\n",
       "idade                                                 0.0053      0.001      6.624      0.000       0.004       0.007\n",
       "tempo_emprego                                         0.0617      0.001     59.398      0.000       0.060       0.064\n",
       "qt_pessoas_residencia                                 0.2926      0.108      2.716      0.007       0.081       0.504\n",
       "==============================================================================\n",
       "Omnibus:                        0.858   Durbin-Watson:                   2.023\n",
       "Prob(Omnibus):                  0.651   Jarque-Bera (JB):                0.839\n",
       "Skew:                           0.019   Prob(JB):                        0.657\n",
       "Kurtosis:                       3.012   Cond. No.                     2.14e+03\n",
       "==============================================================================\n",
       "\n",
       "Notes:\n",
       "[1] Standard Errors assume that the covariance matrix of the errors is correctly specified.\n",
       "[2] The condition number is large, 2.14e+03. This might indicate that there are\n",
       "strong multicollinearity or other numerical problems.\n",
       "\"\"\""
      ]
     },
     "execution_count": 12,
     "metadata": {},
     "output_type": "execute_result"
    }
   ],
   "source": [
    "sm.OLS(y, x).fit().summary()"
   ]
  },
  {
   "cell_type": "markdown",
   "metadata": {},
   "source": [
    "Olhando para o valor de ```P>[t]```, considerando quando ele é grande, podemos tirar as seguintes conclusões:\n",
    "- variável ```tipo_residencia``` é insignificante\n",
    "- na variável ```estado_civil``` podemos juntar *União* com *Casado*\n",
    "- na variàvel ```educacao``` poderia-se dividir entre *Superior completo* e *outros*\n",
    "- na variàvel ```tipo_reda``` podemos juntar *Bolsista*, *Pensionista* e *Assalariado*.\n",
    "\n",
    "Olhando a variável ```AIC``` vemos um valor bem alto, mostrando a alta complexidade do modelo."
   ]
  },
  {
   "cell_type": "markdown",
   "metadata": {},
   "source": [
    "# 2"
   ]
  },
  {
   "cell_type": "code",
   "execution_count": 13,
   "metadata": {},
   "outputs": [],
   "source": [
    "df_2 = df.copy()"
   ]
  },
  {
   "cell_type": "code",
   "execution_count": 14,
   "metadata": {},
   "outputs": [],
   "source": [
    "# vamos fazer as alterações nas faladas acima"
   ]
  },
  {
   "cell_type": "code",
   "execution_count": 15,
   "metadata": {},
   "outputs": [
    {
     "data": {
      "text/plain": [
       "União/Casado    11612\n",
       "Solteiro         1798\n",
       "Separado          879\n",
       "Viúvo             711\n",
       "Name: estado_civil, dtype: int64"
      ]
     },
     "execution_count": 15,
     "metadata": {},
     "output_type": "execute_result"
    }
   ],
   "source": [
    "df_2['estado_civil'] = df_2['estado_civil'].apply(lambda i: i if i not in ['União', 'Casado'] else 'União/Casado')\n",
    "df_2['estado_civil'].value_counts()"
   ]
  },
  {
   "cell_type": "code",
   "execution_count": 16,
   "metadata": {},
   "outputs": [
    {
     "data": {
      "text/plain": [
       "Outros               9665\n",
       "Superior completo    5335\n",
       "Name: educacao, dtype: int64"
      ]
     },
     "execution_count": 16,
     "metadata": {},
     "output_type": "execute_result"
    }
   ],
   "source": [
    "df_2['educacao'] = df_2['educacao'].apply(lambda i: i if i=='Superior completo' else 'Outros')\n",
    "df_2['educacao'].value_counts()"
   ]
  },
  {
   "cell_type": "code",
   "execution_count": 17,
   "metadata": {},
   "outputs": [
    {
     "data": {
      "text/plain": [
       "Bolsista/Pensionista/Assalariado    10224\n",
       "Empresário                           3508\n",
       "Servidor público                     1268\n",
       "Name: tipo_renda, dtype: int64"
      ]
     },
     "execution_count": 17,
     "metadata": {},
     "output_type": "execute_result"
    }
   ],
   "source": [
    "df_2['tipo_renda'] = df_2['tipo_renda'].apply(lambda i: i if i not in ['Bolsista', 'Pensionista', 'Assalariado'] else 'Bolsista/Pensionista/Assalariado')\n",
    "df_2['tipo_renda'].value_counts()"
   ]
  },
  {
   "cell_type": "code",
   "execution_count": 18,
   "metadata": {},
   "outputs": [
    {
     "data": {
      "text/plain": [
       "DesignMatrix with shape (12427, 14)\n",
       "  Columns:\n",
       "    ['Intercept',\n",
       "     'C(sexo, Treatment(0))[T.M]',\n",
       "     'C(tipo_renda, Treatment(0))[T.Empresário]',\n",
       "     'C(tipo_renda, Treatment(0))[T.Servidor público]',\n",
       "     'C(educacao, Treatment(0))[T.Superior completo]',\n",
       "     'C(estado_civil, Treatment(2))[T.Separado]',\n",
       "     'C(estado_civil, Treatment(2))[T.Solteiro]',\n",
       "     'C(estado_civil, Treatment(2))[T.Viúvo]',\n",
       "     'C(posse_de_veiculo, Treatment(0))[T.True]',\n",
       "     'C(posse_de_imovel, Treatment(1))[T.False]',\n",
       "     'qtd_filhos',\n",
       "     'idade',\n",
       "     'tempo_emprego',\n",
       "     'qt_pessoas_residencia']\n",
       "  Terms:\n",
       "    'Intercept' (column 0)\n",
       "    'C(sexo, Treatment(0))' (column 1)\n",
       "    'C(tipo_renda, Treatment(0))' (columns 2:4)\n",
       "    'C(educacao, Treatment(0))' (column 4)\n",
       "    'C(estado_civil, Treatment(2))' (columns 5:8)\n",
       "    'C(posse_de_veiculo, Treatment(0))' (column 8)\n",
       "    'C(posse_de_imovel, Treatment(1))' (column 9)\n",
       "    'qtd_filhos' (column 10)\n",
       "    'idade' (column 11)\n",
       "    'tempo_emprego' (column 12)\n",
       "    'qt_pessoas_residencia' (column 13)\n",
       "  (to view full data, use np.asarray(this_obj))"
      ]
     },
     "execution_count": 18,
     "metadata": {},
     "output_type": "execute_result"
    }
   ],
   "source": [
    "# variáveis qualitativas como dummies\n",
    "y, x = patsy.dmatrices('''\n",
    "                       np.log(renda) ~ \n",
    "                               C(sexo, Treatment(0))\n",
    "                               + C(tipo_renda, Treatment(0))\n",
    "                               + C(educacao, Treatment(0))\n",
    "                               + C(estado_civil, Treatment(2))\n",
    "                               + C(posse_de_veiculo, Treatment(0))\n",
    "                               + C(posse_de_imovel, Treatment(1))\n",
    "                               + qtd_filhos\n",
    "                               + idade\n",
    "                               + tempo_emprego\n",
    "                               + qt_pessoas_residencia\n",
    "                       ''', data = df_2)\n",
    "x"
   ]
  },
  {
   "cell_type": "code",
   "execution_count": 19,
   "metadata": {},
   "outputs": [
    {
     "data": {
      "text/html": [
       "<table class=\"simpletable\">\n",
       "<caption>OLS Regression Results</caption>\n",
       "<tr>\n",
       "  <th>Dep. Variable:</th>      <td>np.log(renda)</td>  <th>  R-squared:         </th> <td>   0.357</td> \n",
       "</tr>\n",
       "<tr>\n",
       "  <th>Model:</th>                   <td>OLS</td>       <th>  Adj. R-squared:    </th> <td>   0.356</td> \n",
       "</tr>\n",
       "<tr>\n",
       "  <th>Method:</th>             <td>Least Squares</td>  <th>  F-statistic:       </th> <td>   530.1</td> \n",
       "</tr>\n",
       "<tr>\n",
       "  <th>Date:</th>             <td>Wed, 29 Jun 2022</td> <th>  Prob (F-statistic):</th>  <td>  0.00</td>  \n",
       "</tr>\n",
       "<tr>\n",
       "  <th>Time:</th>                 <td>16:11:06</td>     <th>  Log-Likelihood:    </th> <td> -13572.</td> \n",
       "</tr>\n",
       "<tr>\n",
       "  <th>No. Observations:</th>      <td> 12427</td>      <th>  AIC:               </th> <td>2.717e+04</td>\n",
       "</tr>\n",
       "<tr>\n",
       "  <th>Df Residuals:</th>          <td> 12413</td>      <th>  BIC:               </th> <td>2.728e+04</td>\n",
       "</tr>\n",
       "<tr>\n",
       "  <th>Df Model:</th>              <td>    13</td>      <th>                     </th>     <td> </td>    \n",
       "</tr>\n",
       "<tr>\n",
       "  <th>Covariance Type:</th>      <td>nonrobust</td>    <th>                     </th>     <td> </td>    \n",
       "</tr>\n",
       "</table>\n",
       "<table class=\"simpletable\">\n",
       "<tr>\n",
       "                         <td></td>                            <th>coef</th>     <th>std err</th>      <th>t</th>      <th>P>|t|</th>  <th>[0.025</th>    <th>0.975]</th>  \n",
       "</tr>\n",
       "<tr>\n",
       "  <th>Intercept</th>                                       <td>    6.5987</td> <td>    0.218</td> <td>   30.210</td> <td> 0.000</td> <td>    6.171</td> <td>    7.027</td>\n",
       "</tr>\n",
       "<tr>\n",
       "  <th>C(sexo, Treatment(0))[T.M]</th>                      <td>    0.7897</td> <td>    0.015</td> <td>   54.092</td> <td> 0.000</td> <td>    0.761</td> <td>    0.818</td>\n",
       "</tr>\n",
       "<tr>\n",
       "  <th>C(tipo_renda, Treatment(0))[T.Empresário]</th>       <td>    0.1550</td> <td>    0.015</td> <td>   10.413</td> <td> 0.000</td> <td>    0.126</td> <td>    0.184</td>\n",
       "</tr>\n",
       "<tr>\n",
       "  <th>C(tipo_renda, Treatment(0))[T.Servidor público]</th> <td>    0.0591</td> <td>    0.022</td> <td>    2.661</td> <td> 0.008</td> <td>    0.016</td> <td>    0.103</td>\n",
       "</tr>\n",
       "<tr>\n",
       "  <th>C(educacao, Treatment(0))[T.Superior completo]</th>  <td>    0.1096</td> <td>    0.014</td> <td>    8.078</td> <td> 0.000</td> <td>    0.083</td> <td>    0.136</td>\n",
       "</tr>\n",
       "<tr>\n",
       "  <th>C(estado_civil, Treatment(2))[T.Separado]</th>       <td>    0.3313</td> <td>    0.111</td> <td>    2.979</td> <td> 0.003</td> <td>    0.113</td> <td>    0.549</td>\n",
       "</tr>\n",
       "<tr>\n",
       "  <th>C(estado_civil, Treatment(2))[T.Solteiro]</th>       <td>    0.2709</td> <td>    0.109</td> <td>    2.489</td> <td> 0.013</td> <td>    0.058</td> <td>    0.484</td>\n",
       "</tr>\n",
       "<tr>\n",
       "  <th>C(estado_civil, Treatment(2))[T.Viúvo]</th>          <td>    0.3713</td> <td>    0.116</td> <td>    3.213</td> <td> 0.001</td> <td>    0.145</td> <td>    0.598</td>\n",
       "</tr>\n",
       "<tr>\n",
       "  <th>C(posse_de_veiculo, Treatment(0))[T.True]</th>       <td>    0.0455</td> <td>    0.014</td> <td>    3.230</td> <td> 0.001</td> <td>    0.018</td> <td>    0.073</td>\n",
       "</tr>\n",
       "<tr>\n",
       "  <th>C(posse_de_imovel, Treatment(1))[T.False]</th>       <td>   -0.0833</td> <td>    0.014</td> <td>   -6.077</td> <td> 0.000</td> <td>   -0.110</td> <td>   -0.056</td>\n",
       "</tr>\n",
       "<tr>\n",
       "  <th>qtd_filhos</th>                                      <td>   -0.2657</td> <td>    0.108</td> <td>   -2.462</td> <td> 0.014</td> <td>   -0.477</td> <td>   -0.054</td>\n",
       "</tr>\n",
       "<tr>\n",
       "  <th>idade</th>                                           <td>    0.0054</td> <td>    0.001</td> <td>    6.939</td> <td> 0.000</td> <td>    0.004</td> <td>    0.007</td>\n",
       "</tr>\n",
       "<tr>\n",
       "  <th>tempo_emprego</th>                                   <td>    0.0617</td> <td>    0.001</td> <td>   59.468</td> <td> 0.000</td> <td>    0.060</td> <td>    0.064</td>\n",
       "</tr>\n",
       "<tr>\n",
       "  <th>qt_pessoas_residencia</th>                           <td>    0.2931</td> <td>    0.108</td> <td>    2.721</td> <td> 0.007</td> <td>    0.082</td> <td>    0.504</td>\n",
       "</tr>\n",
       "</table>\n",
       "<table class=\"simpletable\">\n",
       "<tr>\n",
       "  <th>Omnibus:</th>       <td> 0.824</td> <th>  Durbin-Watson:     </th> <td>   2.023</td>\n",
       "</tr>\n",
       "<tr>\n",
       "  <th>Prob(Omnibus):</th> <td> 0.662</td> <th>  Jarque-Bera (JB):  </th> <td>   0.808</td>\n",
       "</tr>\n",
       "<tr>\n",
       "  <th>Skew:</th>          <td> 0.019</td> <th>  Prob(JB):          </th> <td>   0.668</td>\n",
       "</tr>\n",
       "<tr>\n",
       "  <th>Kurtosis:</th>      <td> 3.010</td> <th>  Cond. No.          </th> <td>2.13e+03</td>\n",
       "</tr>\n",
       "</table><br/><br/>Notes:<br/>[1] Standard Errors assume that the covariance matrix of the errors is correctly specified.<br/>[2] The condition number is large, 2.13e+03. This might indicate that there are<br/>strong multicollinearity or other numerical problems."
      ],
      "text/plain": [
       "<class 'statsmodels.iolib.summary.Summary'>\n",
       "\"\"\"\n",
       "                            OLS Regression Results                            \n",
       "==============================================================================\n",
       "Dep. Variable:          np.log(renda)   R-squared:                       0.357\n",
       "Model:                            OLS   Adj. R-squared:                  0.356\n",
       "Method:                 Least Squares   F-statistic:                     530.1\n",
       "Date:                Wed, 29 Jun 2022   Prob (F-statistic):               0.00\n",
       "Time:                        16:11:06   Log-Likelihood:                -13572.\n",
       "No. Observations:               12427   AIC:                         2.717e+04\n",
       "Df Residuals:                   12413   BIC:                         2.728e+04\n",
       "Df Model:                          13                                         \n",
       "Covariance Type:            nonrobust                                         \n",
       "===================================================================================================================\n",
       "                                                      coef    std err          t      P>|t|      [0.025      0.975]\n",
       "-------------------------------------------------------------------------------------------------------------------\n",
       "Intercept                                           6.5987      0.218     30.210      0.000       6.171       7.027\n",
       "C(sexo, Treatment(0))[T.M]                          0.7897      0.015     54.092      0.000       0.761       0.818\n",
       "C(tipo_renda, Treatment(0))[T.Empresário]           0.1550      0.015     10.413      0.000       0.126       0.184\n",
       "C(tipo_renda, Treatment(0))[T.Servidor público]     0.0591      0.022      2.661      0.008       0.016       0.103\n",
       "C(educacao, Treatment(0))[T.Superior completo]      0.1096      0.014      8.078      0.000       0.083       0.136\n",
       "C(estado_civil, Treatment(2))[T.Separado]           0.3313      0.111      2.979      0.003       0.113       0.549\n",
       "C(estado_civil, Treatment(2))[T.Solteiro]           0.2709      0.109      2.489      0.013       0.058       0.484\n",
       "C(estado_civil, Treatment(2))[T.Viúvo]              0.3713      0.116      3.213      0.001       0.145       0.598\n",
       "C(posse_de_veiculo, Treatment(0))[T.True]           0.0455      0.014      3.230      0.001       0.018       0.073\n",
       "C(posse_de_imovel, Treatment(1))[T.False]          -0.0833      0.014     -6.077      0.000      -0.110      -0.056\n",
       "qtd_filhos                                         -0.2657      0.108     -2.462      0.014      -0.477      -0.054\n",
       "idade                                               0.0054      0.001      6.939      0.000       0.004       0.007\n",
       "tempo_emprego                                       0.0617      0.001     59.468      0.000       0.060       0.064\n",
       "qt_pessoas_residencia                               0.2931      0.108      2.721      0.007       0.082       0.504\n",
       "==============================================================================\n",
       "Omnibus:                        0.824   Durbin-Watson:                   2.023\n",
       "Prob(Omnibus):                  0.662   Jarque-Bera (JB):                0.808\n",
       "Skew:                           0.019   Prob(JB):                        0.668\n",
       "Kurtosis:                       3.010   Cond. No.                     2.13e+03\n",
       "==============================================================================\n",
       "\n",
       "Notes:\n",
       "[1] Standard Errors assume that the covariance matrix of the errors is correctly specified.\n",
       "[2] The condition number is large, 2.13e+03. This might indicate that there are\n",
       "strong multicollinearity or other numerical problems.\n",
       "\"\"\""
      ]
     },
     "execution_count": 19,
     "metadata": {},
     "output_type": "execute_result"
    }
   ],
   "source": [
    "sm.OLS(y, x).fit().summary()"
   ]
  },
  {
   "cell_type": "markdown",
   "metadata": {},
   "source": [
    "Não vemos grande mudanças no R² e no R² ajustado, mas houve uma diminuição do AIC, agora todas as variáveis são significativas."
   ]
  },
  {
   "cell_type": "markdown",
   "metadata": {},
   "source": [
    "# 3"
   ]
  },
  {
   "cell_type": "markdown",
   "metadata": {},
   "source": [
    "Vamos tornar ```qtd_filhos``` e ```qt_pessoas_residencia``` como variáveis categoricas"
   ]
  },
  {
   "cell_type": "code",
   "execution_count": 20,
   "metadata": {},
   "outputs": [
    {
     "data": {
      "text/plain": [
       "0     10376\n",
       "1      3037\n",
       "2+     1587\n",
       "Name: qtd_filhos, dtype: int64"
      ]
     },
     "execution_count": 20,
     "metadata": {},
     "output_type": "execute_result"
    }
   ],
   "source": [
    "df_2.loc[df_2['qtd_filhos']>=2, 'qtd_filhos'] = '2+'\n",
    "df_2['qtd_filhos'].value_counts()"
   ]
  },
  {
   "cell_type": "code",
   "execution_count": 21,
   "metadata": {},
   "outputs": [
    {
     "data": {
      "text/plain": [
       "2.0    8181\n",
       "1.0    2752\n",
       "3.0    2551\n",
       "4+     1516\n",
       "Name: qt_pessoas_residencia, dtype: int64"
      ]
     },
     "execution_count": 21,
     "metadata": {},
     "output_type": "execute_result"
    }
   ],
   "source": [
    "df_2.loc[df_2['qt_pessoas_residencia']>=4, 'qt_pessoas_residencia'] = '4+'\n",
    "df_2['qt_pessoas_residencia'].value_counts()"
   ]
  },
  {
   "cell_type": "code",
   "execution_count": 22,
   "metadata": {},
   "outputs": [
    {
     "data": {
      "text/plain": [
       "DesignMatrix with shape (12427, 17)\n",
       "  Columns:\n",
       "    ['Intercept',\n",
       "     'C(sexo, Treatment(0))[T.M]',\n",
       "     'C(tipo_renda, Treatment(0))[T.Empresário]',\n",
       "     'C(tipo_renda, Treatment(0))[T.Servidor público]',\n",
       "     'C(educacao, Treatment(0))[T.Superior completo]',\n",
       "     'C(estado_civil, Treatment(2))[T.Separado]',\n",
       "     'C(estado_civil, Treatment(2))[T.Solteiro]',\n",
       "     'C(estado_civil, Treatment(2))[T.Viúvo]',\n",
       "     'C(posse_de_veiculo, Treatment(0))[T.True]',\n",
       "     'C(posse_de_imovel, Treatment(1))[T.False]',\n",
       "     'C(qtd_filhos)[T.1]',\n",
       "     'C(qtd_filhos)[T.2+]',\n",
       "     'C(qt_pessoas_residencia, Treatment(2))[T.1.0]',\n",
       "     'C(qt_pessoas_residencia, Treatment(2))[T.3.0]',\n",
       "     'C(qt_pessoas_residencia, Treatment(2))[T.4+]',\n",
       "     'idade',\n",
       "     'tempo_emprego']\n",
       "  Terms:\n",
       "    'Intercept' (column 0)\n",
       "    'C(sexo, Treatment(0))' (column 1)\n",
       "    'C(tipo_renda, Treatment(0))' (columns 2:4)\n",
       "    'C(educacao, Treatment(0))' (column 4)\n",
       "    'C(estado_civil, Treatment(2))' (columns 5:8)\n",
       "    'C(posse_de_veiculo, Treatment(0))' (column 8)\n",
       "    'C(posse_de_imovel, Treatment(1))' (column 9)\n",
       "    'C(qtd_filhos)' (columns 10:12)\n",
       "    'C(qt_pessoas_residencia, Treatment(2))' (columns 12:15)\n",
       "    'idade' (column 15)\n",
       "    'tempo_emprego' (column 16)\n",
       "  (to view full data, use np.asarray(this_obj))"
      ]
     },
     "execution_count": 22,
     "metadata": {},
     "output_type": "execute_result"
    }
   ],
   "source": [
    "y, x = patsy.dmatrices('''\n",
    "                       np.log(renda) ~ \n",
    "                               C(sexo, Treatment(0))\n",
    "                               + C(tipo_renda, Treatment(0))\n",
    "                               + C(educacao, Treatment(0))\n",
    "                               + C(estado_civil, Treatment(2))\n",
    "                               + C(posse_de_veiculo, Treatment(0))\n",
    "                               + C(posse_de_imovel, Treatment(1))\n",
    "                               + C(qtd_filhos)\n",
    "                               + idade\n",
    "                               + tempo_emprego\n",
    "                               + C(qt_pessoas_residencia, Treatment(2))\n",
    "                       ''', data = df_2)\n",
    "x"
   ]
  },
  {
   "cell_type": "code",
   "execution_count": 23,
   "metadata": {},
   "outputs": [
    {
     "data": {
      "text/html": [
       "<table class=\"simpletable\">\n",
       "<caption>OLS Regression Results</caption>\n",
       "<tr>\n",
       "  <th>Dep. Variable:</th>      <td>np.log(renda)</td>  <th>  R-squared:         </th> <td>   0.357</td> \n",
       "</tr>\n",
       "<tr>\n",
       "  <th>Model:</th>                   <td>OLS</td>       <th>  Adj. R-squared:    </th> <td>   0.356</td> \n",
       "</tr>\n",
       "<tr>\n",
       "  <th>Method:</th>             <td>Least Squares</td>  <th>  F-statistic:       </th> <td>   431.1</td> \n",
       "</tr>\n",
       "<tr>\n",
       "  <th>Date:</th>             <td>Wed, 29 Jun 2022</td> <th>  Prob (F-statistic):</th>  <td>  0.00</td>  \n",
       "</tr>\n",
       "<tr>\n",
       "  <th>Time:</th>                 <td>16:11:07</td>     <th>  Log-Likelihood:    </th> <td> -13570.</td> \n",
       "</tr>\n",
       "<tr>\n",
       "  <th>No. Observations:</th>      <td> 12427</td>      <th>  AIC:               </th> <td>2.717e+04</td>\n",
       "</tr>\n",
       "<tr>\n",
       "  <th>Df Residuals:</th>          <td> 12410</td>      <th>  BIC:               </th> <td>2.730e+04</td>\n",
       "</tr>\n",
       "<tr>\n",
       "  <th>Df Model:</th>              <td>    16</td>      <th>                     </th>     <td> </td>    \n",
       "</tr>\n",
       "<tr>\n",
       "  <th>Covariance Type:</th>      <td>nonrobust</td>    <th>                     </th>     <td> </td>    \n",
       "</tr>\n",
       "</table>\n",
       "<table class=\"simpletable\">\n",
       "<tr>\n",
       "                         <td></td>                            <th>coef</th>     <th>std err</th>      <th>t</th>      <th>P>|t|</th>  <th>[0.025</th>    <th>0.975]</th>  \n",
       "</tr>\n",
       "<tr>\n",
       "  <th>Intercept</th>                                       <td>    7.1667</td> <td>    0.037</td> <td>  192.254</td> <td> 0.000</td> <td>    7.094</td> <td>    7.240</td>\n",
       "</tr>\n",
       "<tr>\n",
       "  <th>C(sexo, Treatment(0))[T.M]</th>                      <td>    0.7891</td> <td>    0.015</td> <td>   53.989</td> <td> 0.000</td> <td>    0.760</td> <td>    0.818</td>\n",
       "</tr>\n",
       "<tr>\n",
       "  <th>C(tipo_renda, Treatment(0))[T.Empresário]</th>       <td>    0.1548</td> <td>    0.015</td> <td>   10.401</td> <td> 0.000</td> <td>    0.126</td> <td>    0.184</td>\n",
       "</tr>\n",
       "<tr>\n",
       "  <th>C(tipo_renda, Treatment(0))[T.Servidor público]</th> <td>    0.0579</td> <td>    0.022</td> <td>    2.608</td> <td> 0.009</td> <td>    0.014</td> <td>    0.101</td>\n",
       "</tr>\n",
       "<tr>\n",
       "  <th>C(educacao, Treatment(0))[T.Superior completo]</th>  <td>    0.1089</td> <td>    0.014</td> <td>    8.023</td> <td> 0.000</td> <td>    0.082</td> <td>    0.136</td>\n",
       "</tr>\n",
       "<tr>\n",
       "  <th>C(estado_civil, Treatment(2))[T.Separado]</th>       <td>    0.2860</td> <td>    0.104</td> <td>    2.746</td> <td> 0.006</td> <td>    0.082</td> <td>    0.490</td>\n",
       "</tr>\n",
       "<tr>\n",
       "  <th>C(estado_civil, Treatment(2))[T.Solteiro]</th>       <td>    0.2257</td> <td>    0.102</td> <td>    2.203</td> <td> 0.028</td> <td>    0.025</td> <td>    0.427</td>\n",
       "</tr>\n",
       "<tr>\n",
       "  <th>C(estado_civil, Treatment(2))[T.Viúvo]</th>          <td>    0.3217</td> <td>    0.110</td> <td>    2.925</td> <td> 0.003</td> <td>    0.106</td> <td>    0.537</td>\n",
       "</tr>\n",
       "<tr>\n",
       "  <th>C(posse_de_veiculo, Treatment(0))[T.True]</th>       <td>    0.0451</td> <td>    0.014</td> <td>    3.201</td> <td> 0.001</td> <td>    0.017</td> <td>    0.073</td>\n",
       "</tr>\n",
       "<tr>\n",
       "  <th>C(posse_de_imovel, Treatment(1))[T.False]</th>       <td>   -0.0824</td> <td>    0.014</td> <td>   -6.003</td> <td> 0.000</td> <td>   -0.109</td> <td>   -0.055</td>\n",
       "</tr>\n",
       "<tr>\n",
       "  <th>C(qtd_filhos)[T.1]</th>                              <td>   -0.2134</td> <td>    0.104</td> <td>   -2.045</td> <td> 0.041</td> <td>   -0.418</td> <td>   -0.009</td>\n",
       "</tr>\n",
       "<tr>\n",
       "  <th>C(qtd_filhos)[T.2+]</th>                             <td>   -0.5148</td> <td>    0.209</td> <td>   -2.459</td> <td> 0.014</td> <td>   -0.925</td> <td>   -0.104</td>\n",
       "</tr>\n",
       "<tr>\n",
       "  <th>C(qt_pessoas_residencia, Treatment(2))[T.1.0]</th>   <td>   -0.2378</td> <td>    0.103</td> <td>   -2.318</td> <td> 0.020</td> <td>   -0.439</td> <td>   -0.037</td>\n",
       "</tr>\n",
       "<tr>\n",
       "  <th>C(qt_pessoas_residencia, Treatment(2))[T.3.0]</th>   <td>    0.2630</td> <td>    0.105</td> <td>    2.509</td> <td> 0.012</td> <td>    0.057</td> <td>    0.469</td>\n",
       "</tr>\n",
       "<tr>\n",
       "  <th>C(qt_pessoas_residencia, Treatment(2))[T.4+]</th>    <td>    0.5882</td> <td>    0.210</td> <td>    2.805</td> <td> 0.005</td> <td>    0.177</td> <td>    0.999</td>\n",
       "</tr>\n",
       "<tr>\n",
       "  <th>idade</th>                                           <td>    0.0057</td> <td>    0.001</td> <td>    7.192</td> <td> 0.000</td> <td>    0.004</td> <td>    0.007</td>\n",
       "</tr>\n",
       "<tr>\n",
       "  <th>tempo_emprego</th>                                   <td>    0.0616</td> <td>    0.001</td> <td>   59.388</td> <td> 0.000</td> <td>    0.060</td> <td>    0.064</td>\n",
       "</tr>\n",
       "</table>\n",
       "<table class=\"simpletable\">\n",
       "<tr>\n",
       "  <th>Omnibus:</th>       <td> 0.985</td> <th>  Durbin-Watson:     </th> <td>   2.022</td>\n",
       "</tr>\n",
       "<tr>\n",
       "  <th>Prob(Omnibus):</th> <td> 0.611</td> <th>  Jarque-Bera (JB):  </th> <td>   0.966</td>\n",
       "</tr>\n",
       "<tr>\n",
       "  <th>Skew:</th>          <td> 0.021</td> <th>  Prob(JB):          </th> <td>   0.617</td>\n",
       "</tr>\n",
       "<tr>\n",
       "  <th>Kurtosis:</th>      <td> 3.012</td> <th>  Cond. No.          </th> <td>2.48e+03</td>\n",
       "</tr>\n",
       "</table><br/><br/>Notes:<br/>[1] Standard Errors assume that the covariance matrix of the errors is correctly specified.<br/>[2] The condition number is large, 2.48e+03. This might indicate that there are<br/>strong multicollinearity or other numerical problems."
      ],
      "text/plain": [
       "<class 'statsmodels.iolib.summary.Summary'>\n",
       "\"\"\"\n",
       "                            OLS Regression Results                            \n",
       "==============================================================================\n",
       "Dep. Variable:          np.log(renda)   R-squared:                       0.357\n",
       "Model:                            OLS   Adj. R-squared:                  0.356\n",
       "Method:                 Least Squares   F-statistic:                     431.1\n",
       "Date:                Wed, 29 Jun 2022   Prob (F-statistic):               0.00\n",
       "Time:                        16:11:07   Log-Likelihood:                -13570.\n",
       "No. Observations:               12427   AIC:                         2.717e+04\n",
       "Df Residuals:                   12410   BIC:                         2.730e+04\n",
       "Df Model:                          16                                         \n",
       "Covariance Type:            nonrobust                                         \n",
       "===================================================================================================================\n",
       "                                                      coef    std err          t      P>|t|      [0.025      0.975]\n",
       "-------------------------------------------------------------------------------------------------------------------\n",
       "Intercept                                           7.1667      0.037    192.254      0.000       7.094       7.240\n",
       "C(sexo, Treatment(0))[T.M]                          0.7891      0.015     53.989      0.000       0.760       0.818\n",
       "C(tipo_renda, Treatment(0))[T.Empresário]           0.1548      0.015     10.401      0.000       0.126       0.184\n",
       "C(tipo_renda, Treatment(0))[T.Servidor público]     0.0579      0.022      2.608      0.009       0.014       0.101\n",
       "C(educacao, Treatment(0))[T.Superior completo]      0.1089      0.014      8.023      0.000       0.082       0.136\n",
       "C(estado_civil, Treatment(2))[T.Separado]           0.2860      0.104      2.746      0.006       0.082       0.490\n",
       "C(estado_civil, Treatment(2))[T.Solteiro]           0.2257      0.102      2.203      0.028       0.025       0.427\n",
       "C(estado_civil, Treatment(2))[T.Viúvo]              0.3217      0.110      2.925      0.003       0.106       0.537\n",
       "C(posse_de_veiculo, Treatment(0))[T.True]           0.0451      0.014      3.201      0.001       0.017       0.073\n",
       "C(posse_de_imovel, Treatment(1))[T.False]          -0.0824      0.014     -6.003      0.000      -0.109      -0.055\n",
       "C(qtd_filhos)[T.1]                                 -0.2134      0.104     -2.045      0.041      -0.418      -0.009\n",
       "C(qtd_filhos)[T.2+]                                -0.5148      0.209     -2.459      0.014      -0.925      -0.104\n",
       "C(qt_pessoas_residencia, Treatment(2))[T.1.0]      -0.2378      0.103     -2.318      0.020      -0.439      -0.037\n",
       "C(qt_pessoas_residencia, Treatment(2))[T.3.0]       0.2630      0.105      2.509      0.012       0.057       0.469\n",
       "C(qt_pessoas_residencia, Treatment(2))[T.4+]        0.5882      0.210      2.805      0.005       0.177       0.999\n",
       "idade                                               0.0057      0.001      7.192      0.000       0.004       0.007\n",
       "tempo_emprego                                       0.0616      0.001     59.388      0.000       0.060       0.064\n",
       "==============================================================================\n",
       "Omnibus:                        0.985   Durbin-Watson:                   2.022\n",
       "Prob(Omnibus):                  0.611   Jarque-Bera (JB):                0.966\n",
       "Skew:                           0.021   Prob(JB):                        0.617\n",
       "Kurtosis:                       3.012   Cond. No.                     2.48e+03\n",
       "==============================================================================\n",
       "\n",
       "Notes:\n",
       "[1] Standard Errors assume that the covariance matrix of the errors is correctly specified.\n",
       "[2] The condition number is large, 2.48e+03. This might indicate that there are\n",
       "strong multicollinearity or other numerical problems.\n",
       "\"\"\""
      ]
     },
     "execution_count": 23,
     "metadata": {},
     "output_type": "execute_result"
    }
   ],
   "source": [
    "sm.OLS(y, x).fit().summary()"
   ]
  },
  {
   "cell_type": "markdown",
   "metadata": {},
   "source": [
    "Não alterou nada em relação ao anterior, não sei mais o que fazer :("
   ]
  },
  {
   "cell_type": "code",
   "execution_count": 26,
   "metadata": {},
   "outputs": [],
   "source": [
    "#df_2.to_csv('novo_previsao_de_renda_ex1.csv', index=False)"
   ]
  }
 ],
 "metadata": {
  "kernelspec": {
   "display_name": "Python 3",
   "language": "python",
   "name": "python3"
  },
  "language_info": {
   "codemirror_mode": {
    "name": "ipython",
    "version": 3
   },
   "file_extension": ".py",
   "mimetype": "text/x-python",
   "name": "python",
   "nbconvert_exporter": "python",
   "pygments_lexer": "ipython3",
   "version": "3.8.5"
  }
 },
 "nbformat": 4,
 "nbformat_minor": 4
}
