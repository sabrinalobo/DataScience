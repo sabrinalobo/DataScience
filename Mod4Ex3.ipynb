{
 "cells": [
  {
   "cell_type": "markdown",
   "metadata": {},
   "source": [
    "# Tarefa 03\n",
    "\n",
    "- Leia os enunciados com atenção\n",
    "- Saiba que pode haver mais de uma resposta correta\n",
    "- Insira novas células de código sempre que achar necessário\n",
    "- Em caso de dúvidas, procure os Tutores\n",
    "- Divirta-se :)"
   ]
  },
  {
   "cell_type": "code",
   "execution_count": 1,
   "metadata": {},
   "outputs": [],
   "source": [
    "import pandas as pd\n",
    "import requests"
   ]
  },
  {
   "cell_type": "markdown",
   "metadata": {},
   "source": [
    "####  1) Lendo de APIs\n",
    "Vimos em aula como carregar dados públicos do governo através de um API (*Application Programming Interface*). No exemplo de aula, baixamos os dados de pedidos de verificação de limites (PVL) realizados por estados, e selecionamos apenas aqueles referentes ao estado de São Paulo.\n",
    "\n",
    "1. Repita os mesmos passos feitos em aula, mas selecione os PVLs realizados por municípios no estado do Rio de Janeiro.\n",
    "2. Quais são os três *status* das solicitações mais frequentes na base? Quais são suas frequências?\n",
    "3. Construa uma nova variável que contenha o ano do **status**. Observe que ```data_status``` vem como tipo *object* no **DataFrame**. Dica: você pode usar o método ```.str``` para transformar o tipo da variável em string, em seguida um método como [**slice()**](https://pandas.pydata.org/docs/reference/api/pandas.Series.str.slice.html) ou [**split()**](https://pandas.pydata.org/pandas-docs/stable/reference/api/pandas.Series.str.split.html).\n",
    "4. Indique a frequência de cada ano do campo construído no item (3)."
   ]
  },
  {
   "cell_type": "code",
   "execution_count": 2,
   "metadata": {},
   "outputs": [
    {
     "data": {
      "text/html": [
       "<div>\n",
       "<style scoped>\n",
       "    .dataframe tbody tr th:only-of-type {\n",
       "        vertical-align: middle;\n",
       "    }\n",
       "\n",
       "    .dataframe tbody tr th {\n",
       "        vertical-align: top;\n",
       "    }\n",
       "\n",
       "    .dataframe thead th {\n",
       "        text-align: right;\n",
       "    }\n",
       "</style>\n",
       "<table border=\"1\" class=\"dataframe\">\n",
       "  <thead>\n",
       "    <tr style=\"text-align: right;\">\n",
       "      <th></th>\n",
       "      <th>id_pleito</th>\n",
       "      <th>tipo_interessado</th>\n",
       "      <th>interessado</th>\n",
       "      <th>cod_ibge</th>\n",
       "      <th>uf</th>\n",
       "      <th>num_pvl</th>\n",
       "      <th>status</th>\n",
       "      <th>num_processo</th>\n",
       "      <th>data_protocolo</th>\n",
       "      <th>tipo_operacao</th>\n",
       "      <th>finalidade</th>\n",
       "      <th>tipo_credor</th>\n",
       "      <th>credor</th>\n",
       "      <th>moeda</th>\n",
       "      <th>valor</th>\n",
       "      <th>pvl_assoc_divida</th>\n",
       "      <th>pvl_contradado_credor</th>\n",
       "      <th>data_status</th>\n",
       "    </tr>\n",
       "  </thead>\n",
       "  <tbody>\n",
       "    <tr>\n",
       "      <th>0</th>\n",
       "      <td>26368</td>\n",
       "      <td>Município</td>\n",
       "      <td>Rio de Janeiro</td>\n",
       "      <td>3304557</td>\n",
       "      <td>RJ</td>\n",
       "      <td>PVL02.002098/2017-76</td>\n",
       "      <td>Deferido</td>\n",
       "      <td>17944.102249/2017-58</td>\n",
       "      <td>2017-11-29T19:03:49Z</td>\n",
       "      <td>Operação contratual interna</td>\n",
       "      <td>Infraestrutura</td>\n",
       "      <td>Instituição Financeira Nacional</td>\n",
       "      <td>Caixa Econômica Federal</td>\n",
       "      <td>Real</td>\n",
       "      <td>2.000000e+08</td>\n",
       "      <td>1</td>\n",
       "      <td>0</td>\n",
       "      <td>04/12/2017</td>\n",
       "    </tr>\n",
       "    <tr>\n",
       "      <th>1</th>\n",
       "      <td>9452</td>\n",
       "      <td>Município</td>\n",
       "      <td>Rio de Janeiro</td>\n",
       "      <td>3304557</td>\n",
       "      <td>RJ</td>\n",
       "      <td>None</td>\n",
       "      <td>Arquivado</td>\n",
       "      <td>17944.000984/2009-18</td>\n",
       "      <td>2009-08-13T03:00:00Z</td>\n",
       "      <td>Operação contratual externa (com garantia da U...</td>\n",
       "      <td>Multissetorial</td>\n",
       "      <td>Instituição Financeira Internacional</td>\n",
       "      <td>Banco Internacional para Reconstrução e Desenv...</td>\n",
       "      <td>Dólar dos EUA</td>\n",
       "      <td>1.000000e-02</td>\n",
       "      <td>0</td>\n",
       "      <td>0</td>\n",
       "      <td>09/02/2010</td>\n",
       "    </tr>\n",
       "    <tr>\n",
       "      <th>2</th>\n",
       "      <td>9664</td>\n",
       "      <td>Município</td>\n",
       "      <td>Rio de Janeiro</td>\n",
       "      <td>3304557</td>\n",
       "      <td>RJ</td>\n",
       "      <td>None</td>\n",
       "      <td>Deferido</td>\n",
       "      <td>17944.001028/2010-97</td>\n",
       "      <td>2011-04-14T03:00:00Z</td>\n",
       "      <td>Operação contratual interna</td>\n",
       "      <td>RELUZ</td>\n",
       "      <td>Empresa Não Estatal</td>\n",
       "      <td>Light - Serviços de Eletricidade S/A</td>\n",
       "      <td>Real</td>\n",
       "      <td>1.172168e+07</td>\n",
       "      <td>1</td>\n",
       "      <td>0</td>\n",
       "      <td>12/05/2011</td>\n",
       "    </tr>\n",
       "    <tr>\n",
       "      <th>3</th>\n",
       "      <td>10230</td>\n",
       "      <td>Município</td>\n",
       "      <td>Resende</td>\n",
       "      <td>3304201</td>\n",
       "      <td>RJ</td>\n",
       "      <td>None</td>\n",
       "      <td>Arquivado</td>\n",
       "      <td>17944.001150/2008-49</td>\n",
       "      <td>2008-07-18T03:00:00Z</td>\n",
       "      <td>Operação contratual interna</td>\n",
       "      <td>Caminho da Escola 2</td>\n",
       "      <td>Instituição Financeira Nacional</td>\n",
       "      <td>Banco do Brasil S/A</td>\n",
       "      <td>Real</td>\n",
       "      <td>5.734000e+05</td>\n",
       "      <td>0</td>\n",
       "      <td>0</td>\n",
       "      <td>02/10/2008</td>\n",
       "    </tr>\n",
       "    <tr>\n",
       "      <th>4</th>\n",
       "      <td>10259</td>\n",
       "      <td>Município</td>\n",
       "      <td>Armação dos Búzios</td>\n",
       "      <td>3300233</td>\n",
       "      <td>RJ</td>\n",
       "      <td>None</td>\n",
       "      <td>Regularizado</td>\n",
       "      <td>17944.001156/2009-05</td>\n",
       "      <td>2009-11-11T02:00:00Z</td>\n",
       "      <td>Operação contratual interna</td>\n",
       "      <td>Regularização de Dívida - Água e Esgoto</td>\n",
       "      <td>Empresa Não Estatal</td>\n",
       "      <td>Prolagos S/A - Concessionária de Serviços Públ...</td>\n",
       "      <td>Real</td>\n",
       "      <td>7.684211e+04</td>\n",
       "      <td>0</td>\n",
       "      <td>0</td>\n",
       "      <td>30/11/2009</td>\n",
       "    </tr>\n",
       "  </tbody>\n",
       "</table>\n",
       "</div>"
      ],
      "text/plain": [
       "   id_pleito tipo_interessado         interessado  cod_ibge  uf  \\\n",
       "0      26368        Município      Rio de Janeiro   3304557  RJ   \n",
       "1       9452        Município      Rio de Janeiro   3304557  RJ   \n",
       "2       9664        Município      Rio de Janeiro   3304557  RJ   \n",
       "3      10230        Município             Resende   3304201  RJ   \n",
       "4      10259        Município  Armação dos Búzios   3300233  RJ   \n",
       "\n",
       "                num_pvl        status          num_processo  \\\n",
       "0  PVL02.002098/2017-76      Deferido  17944.102249/2017-58   \n",
       "1                  None     Arquivado  17944.000984/2009-18   \n",
       "2                  None      Deferido  17944.001028/2010-97   \n",
       "3                  None     Arquivado  17944.001150/2008-49   \n",
       "4                  None  Regularizado  17944.001156/2009-05   \n",
       "\n",
       "         data_protocolo                                      tipo_operacao  \\\n",
       "0  2017-11-29T19:03:49Z                        Operação contratual interna   \n",
       "1  2009-08-13T03:00:00Z  Operação contratual externa (com garantia da U...   \n",
       "2  2011-04-14T03:00:00Z                        Operação contratual interna   \n",
       "3  2008-07-18T03:00:00Z                        Operação contratual interna   \n",
       "4  2009-11-11T02:00:00Z                        Operação contratual interna   \n",
       "\n",
       "                                finalidade  \\\n",
       "0                           Infraestrutura   \n",
       "1                           Multissetorial   \n",
       "2                                    RELUZ   \n",
       "3                      Caminho da Escola 2   \n",
       "4  Regularização de Dívida - Água e Esgoto   \n",
       "\n",
       "                            tipo_credor  \\\n",
       "0       Instituição Financeira Nacional   \n",
       "1  Instituição Financeira Internacional   \n",
       "2                   Empresa Não Estatal   \n",
       "3       Instituição Financeira Nacional   \n",
       "4                   Empresa Não Estatal   \n",
       "\n",
       "                                              credor          moeda  \\\n",
       "0                            Caixa Econômica Federal           Real   \n",
       "1  Banco Internacional para Reconstrução e Desenv...  Dólar dos EUA   \n",
       "2               Light - Serviços de Eletricidade S/A           Real   \n",
       "3                                Banco do Brasil S/A           Real   \n",
       "4  Prolagos S/A - Concessionária de Serviços Públ...           Real   \n",
       "\n",
       "          valor  pvl_assoc_divida  pvl_contradado_credor data_status  \n",
       "0  2.000000e+08                 1                      0  04/12/2017  \n",
       "1  1.000000e-02                 0                      0  09/02/2010  \n",
       "2  1.172168e+07                 1                      0  12/05/2011  \n",
       "3  5.734000e+05                 0                      0  02/10/2008  \n",
       "4  7.684211e+04                 0                      0  30/11/2009  "
      ]
     },
     "execution_count": 2,
     "metadata": {},
     "output_type": "execute_result"
    }
   ],
   "source": [
    "# 1) Seu código aqui\n",
    "url = 'https://apidatalake.tesouro.gov.br/ords/sadipem/tt/pvl?uf=RJ&tipo_interessado=Munic%C3%ADpio'\n",
    "\n",
    "r = requests.get(url)\n",
    "dados_json = r.json()\n",
    "dados_df = pd.DataFrame(dados_json['items'])\n",
    "dados_df.head()"
   ]
  },
  {
   "cell_type": "code",
   "execution_count": 3,
   "metadata": {},
   "outputs": [
    {
     "data": {
      "text/plain": [
       "Deferido        86\n",
       "Arquivado       53\n",
       "Regularizado    25\n",
       "Name: status, dtype: int64"
      ]
     },
     "execution_count": 3,
     "metadata": {},
     "output_type": "execute_result"
    }
   ],
   "source": [
    "# 2) Seu código aqui\n",
    "dados_df['status'].value_counts().head(3)"
   ]
  },
  {
   "cell_type": "code",
   "execution_count": 4,
   "metadata": {},
   "outputs": [
    {
     "data": {
      "text/plain": [
       "0    2017\n",
       "1    2010\n",
       "2    2011\n",
       "3    2008\n",
       "4    2009\n",
       "Name: ano_status, dtype: object"
      ]
     },
     "execution_count": 4,
     "metadata": {},
     "output_type": "execute_result"
    }
   ],
   "source": [
    "# 3) Seu código aqui\n",
    "dados_df['ano_status'] = dados_df['data_status'].apply(lambda i: str(i.split('/')[-1]))\n",
    "dados_df['ano_status'].head()"
   ]
  },
  {
   "cell_type": "code",
   "execution_count": 5,
   "metadata": {},
   "outputs": [
    {
     "data": {
      "text/plain": [
       "0    2017\n",
       "1    2010\n",
       "2    2011\n",
       "3    2008\n",
       "4    2009\n",
       "Name: ano_status_2, dtype: int64"
      ]
     },
     "execution_count": 5,
     "metadata": {},
     "output_type": "execute_result"
    }
   ],
   "source": [
    "# 3) Alternativo\n",
    "dados_df['data_status'] =  pd.to_datetime(dados_df['data_status'])\n",
    "dados_df['ano_status_2'] = dados_df['data_status'].apply(lambda i: i.year)\n",
    "dados_df['ano_status_2'].head()"
   ]
  },
  {
   "cell_type": "code",
   "execution_count": 6,
   "metadata": {},
   "outputs": [
    {
     "data": {
      "text/plain": [
       "2008    37\n",
       "2007    29\n",
       "2014    20\n",
       "2010    19\n",
       "2019    17\n",
       "2020    15\n",
       "2013    15\n",
       "2012    13\n",
       "2011    10\n",
       "2015     9\n",
       "2009     9\n",
       "2017     5\n",
       "2021     5\n",
       "2016     4\n",
       "2018     4\n",
       "2002     4\n",
       "2006     4\n",
       "2004     1\n",
       "2003     1\n",
       "Name: ano_status, dtype: int64"
      ]
     },
     "execution_count": 6,
     "metadata": {},
     "output_type": "execute_result"
    }
   ],
   "source": [
    "# 4)\n",
    "dados_df['ano_status'].value_counts()"
   ]
  },
  {
   "cell_type": "markdown",
   "metadata": {},
   "source": [
    "####  2) Melhorando a interação com o API\n",
    "Observe dois URLs de consultas diferentes, por exemplo o URL utilizado em aula, e o URL feito no exercício anterior. Compare-os e observe as diferenças.\n",
    "\n",
    "1. Faça uma função em Python que recebe como argumento o UF da consulta e o tipo de interessado (```'Estado'```ou ```Município```), e que devolve os dados da consulta no formato *DataFrame*.\n",
    "2. Quantas solicitações para o Estado podem ser consultadas para Minas Gerais com *status* em 'Arquivado por decurso de prazo' estão registradas?\n",
    "3. Qual é o município da Bahia com mais solicitações deferidas?\n",
    "4. Salve um arquivo .csv com os dados de solicitações da Bahia, com interessado = 'Estado'"
   ]
  },
  {
   "cell_type": "code",
   "execution_count": 7,
   "metadata": {},
   "outputs": [],
   "source": [
    "#1) Seu código aqui\n",
    "def pegar_dados_api(uf: str, tipo: str):\n",
    "    url_i = f'http://apidatalake.tesouro.gov.br/ords/sadipem/tt/pvl?uf={uf}&tipo_interessado={tipo}'  \n",
    "\n",
    "    r_i = requests.get(url_i)\n",
    "    dados_json_i = r_i.json()\n",
    "    dados_i = pd.DataFrame(dados_json_i['items'])\n",
    "    return dados_i\n",
    "    "
   ]
  },
  {
   "cell_type": "code",
   "execution_count": 8,
   "metadata": {},
   "outputs": [
    {
     "data": {
      "text/plain": [
       "1"
      ]
     },
     "execution_count": 8,
     "metadata": {},
     "output_type": "execute_result"
    }
   ],
   "source": [
    "# 2) Seu código aqui\n",
    "df = pegar_dados_api('MG', 'Estado')\n",
    "len(df[df['status'] == 'Arquivado por decurso de prazo'])"
   ]
  },
  {
   "cell_type": "code",
   "execution_count": 9,
   "metadata": {},
   "outputs": [
    {
     "data": {
      "text/plain": [
       "Luís Eduardo Magalhães    14\n",
       "Name: interessado, dtype: int64"
      ]
     },
     "execution_count": 9,
     "metadata": {},
     "output_type": "execute_result"
    }
   ],
   "source": [
    "# 3) Seu código aqui\n",
    "df = pegar_dados_api('BA', 'Município')\n",
    "df[df['status'] == 'Deferido']['interessado'].value_counts(ascending=False).head(1)"
   ]
  },
  {
   "cell_type": "code",
   "execution_count": 10,
   "metadata": {},
   "outputs": [],
   "source": [
    "# 4) Seu código aqui\n",
    "df = pegar_dados_api('BA', 'Estado')\n",
    "df.to_csv('dados_solicitacoes_BA.csv', index=False)"
   ]
  }
 ],
 "metadata": {
  "kernelspec": {
   "display_name": "Python 3",
   "language": "python",
   "name": "python3"
  },
  "language_info": {
   "codemirror_mode": {
    "name": "ipython",
    "version": 3
   },
   "file_extension": ".py",
   "mimetype": "text/x-python",
   "name": "python",
   "nbconvert_exporter": "python",
   "pygments_lexer": "ipython3",
   "version": "3.8.5"
  }
 },
 "nbformat": 4,
 "nbformat_minor": 4
}
